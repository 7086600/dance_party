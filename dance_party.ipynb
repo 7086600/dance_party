{
 "cells": [
  {
   "cell_type": "markdown",
   "id": "421a6a7b",
   "metadata": {},
   "source": [
    "# Use the power of sampling distributions!"
   ]
  },
  {
   "cell_type": "code",
   "execution_count": 4,
   "id": "1d1f7ce9",
   "metadata": {},
   "outputs": [],
   "source": [
    "# importing necessary libraries\n",
    "import pandas as pd\n",
    "import numpy as np\n",
    "import scipy.stats as stats\n",
    "import matplotlib.pyplot as plt\n",
    "import seaborn as sns\n",
    "from helper_functions import choose_statistic, plot_population_distribution, sampling_distribution\n",
    "\n",
    "# setting options\n",
    "pd.set_option('display.max_columns', None)\n",
    "np.set_printoptions(suppress=True, precision = 2)"
   ]
  },
  {
   "cell_type": "markdown",
   "id": "fc0c28c5",
   "metadata": {},
   "source": [
    "## Loading in the Data"
   ]
  },
  {
   "cell_type": "code",
   "execution_count": 5,
   "id": "be9a8584",
   "metadata": {},
   "outputs": [],
   "source": [
    "# task 1-3: load data and inspect\n",
    "spotify_data = pd.read_csv('spotify_data.csv', low_memory=False)"
   ]
  },
  {
   "cell_type": "code",
   "execution_count": 6,
   "id": "8433a891",
   "metadata": {},
   "outputs": [
    {
     "data": {
      "text/html": [
       "<div>\n",
       "<style scoped>\n",
       "    .dataframe tbody tr th:only-of-type {\n",
       "        vertical-align: middle;\n",
       "    }\n",
       "\n",
       "    .dataframe tbody tr th {\n",
       "        vertical-align: top;\n",
       "    }\n",
       "\n",
       "    .dataframe thead th {\n",
       "        text-align: right;\n",
       "    }\n",
       "</style>\n",
       "<table border=\"1\" class=\"dataframe\">\n",
       "  <thead>\n",
       "    <tr style=\"text-align: right;\">\n",
       "      <th></th>\n",
       "      <th>danceability</th>\n",
       "      <th>energy</th>\n",
       "      <th>key</th>\n",
       "      <th>loudness</th>\n",
       "      <th>mode</th>\n",
       "      <th>speechiness</th>\n",
       "      <th>acousticness</th>\n",
       "      <th>instrumentalness</th>\n",
       "      <th>liveness</th>\n",
       "      <th>valence</th>\n",
       "      <th>tempo</th>\n",
       "      <th>type</th>\n",
       "      <th>id</th>\n",
       "      <th>uri</th>\n",
       "      <th>track_href</th>\n",
       "      <th>analysis_url</th>\n",
       "      <th>duration_ms</th>\n",
       "      <th>time_signature</th>\n",
       "      <th>genre</th>\n",
       "      <th>song_name</th>\n",
       "      <th>Unnamed: 0</th>\n",
       "      <th>title</th>\n",
       "    </tr>\n",
       "  </thead>\n",
       "  <tbody>\n",
       "    <tr>\n",
       "      <th>0</th>\n",
       "      <td>0.831</td>\n",
       "      <td>0.814</td>\n",
       "      <td>2</td>\n",
       "      <td>-7.364</td>\n",
       "      <td>1</td>\n",
       "      <td>0.4200</td>\n",
       "      <td>0.0598</td>\n",
       "      <td>0.013400</td>\n",
       "      <td>0.0556</td>\n",
       "      <td>0.3890</td>\n",
       "      <td>156.985</td>\n",
       "      <td>audio_features</td>\n",
       "      <td>2Vc6NJ9PW9gD9q343XFRKx</td>\n",
       "      <td>spotify:track:2Vc6NJ9PW9gD9q343XFRKx</td>\n",
       "      <td>https://api.spotify.com/v1/tracks/2Vc6NJ9PW9gD...</td>\n",
       "      <td>https://api.spotify.com/v1/audio-analysis/2Vc6...</td>\n",
       "      <td>124539</td>\n",
       "      <td>4</td>\n",
       "      <td>Dark Trap</td>\n",
       "      <td>Mercury: Retrograde</td>\n",
       "      <td>NaN</td>\n",
       "      <td>NaN</td>\n",
       "    </tr>\n",
       "    <tr>\n",
       "      <th>1</th>\n",
       "      <td>0.719</td>\n",
       "      <td>0.493</td>\n",
       "      <td>8</td>\n",
       "      <td>-7.230</td>\n",
       "      <td>1</td>\n",
       "      <td>0.0794</td>\n",
       "      <td>0.4010</td>\n",
       "      <td>0.000000</td>\n",
       "      <td>0.1180</td>\n",
       "      <td>0.1240</td>\n",
       "      <td>115.080</td>\n",
       "      <td>audio_features</td>\n",
       "      <td>7pgJBLVz5VmnL7uGHmRj6p</td>\n",
       "      <td>spotify:track:7pgJBLVz5VmnL7uGHmRj6p</td>\n",
       "      <td>https://api.spotify.com/v1/tracks/7pgJBLVz5Vmn...</td>\n",
       "      <td>https://api.spotify.com/v1/audio-analysis/7pgJ...</td>\n",
       "      <td>224427</td>\n",
       "      <td>4</td>\n",
       "      <td>Dark Trap</td>\n",
       "      <td>Pathology</td>\n",
       "      <td>NaN</td>\n",
       "      <td>NaN</td>\n",
       "    </tr>\n",
       "    <tr>\n",
       "      <th>2</th>\n",
       "      <td>0.850</td>\n",
       "      <td>0.893</td>\n",
       "      <td>5</td>\n",
       "      <td>-4.783</td>\n",
       "      <td>1</td>\n",
       "      <td>0.0623</td>\n",
       "      <td>0.0138</td>\n",
       "      <td>0.000004</td>\n",
       "      <td>0.3720</td>\n",
       "      <td>0.0391</td>\n",
       "      <td>218.050</td>\n",
       "      <td>audio_features</td>\n",
       "      <td>0vSWgAlfpye0WCGeNmuNhy</td>\n",
       "      <td>spotify:track:0vSWgAlfpye0WCGeNmuNhy</td>\n",
       "      <td>https://api.spotify.com/v1/tracks/0vSWgAlfpye0...</td>\n",
       "      <td>https://api.spotify.com/v1/audio-analysis/0vSW...</td>\n",
       "      <td>98821</td>\n",
       "      <td>4</td>\n",
       "      <td>Dark Trap</td>\n",
       "      <td>Symbiote</td>\n",
       "      <td>NaN</td>\n",
       "      <td>NaN</td>\n",
       "    </tr>\n",
       "    <tr>\n",
       "      <th>3</th>\n",
       "      <td>0.476</td>\n",
       "      <td>0.781</td>\n",
       "      <td>0</td>\n",
       "      <td>-4.710</td>\n",
       "      <td>1</td>\n",
       "      <td>0.1030</td>\n",
       "      <td>0.0237</td>\n",
       "      <td>0.000000</td>\n",
       "      <td>0.1140</td>\n",
       "      <td>0.1750</td>\n",
       "      <td>186.948</td>\n",
       "      <td>audio_features</td>\n",
       "      <td>0VSXnJqQkwuH2ei1nOQ1nu</td>\n",
       "      <td>spotify:track:0VSXnJqQkwuH2ei1nOQ1nu</td>\n",
       "      <td>https://api.spotify.com/v1/tracks/0VSXnJqQkwuH...</td>\n",
       "      <td>https://api.spotify.com/v1/audio-analysis/0VSX...</td>\n",
       "      <td>123661</td>\n",
       "      <td>3</td>\n",
       "      <td>Dark Trap</td>\n",
       "      <td>ProductOfDrugs (Prod. The Virus and Antidote)</td>\n",
       "      <td>NaN</td>\n",
       "      <td>NaN</td>\n",
       "    </tr>\n",
       "    <tr>\n",
       "      <th>4</th>\n",
       "      <td>0.798</td>\n",
       "      <td>0.624</td>\n",
       "      <td>2</td>\n",
       "      <td>-7.668</td>\n",
       "      <td>1</td>\n",
       "      <td>0.2930</td>\n",
       "      <td>0.2170</td>\n",
       "      <td>0.000000</td>\n",
       "      <td>0.1660</td>\n",
       "      <td>0.5910</td>\n",
       "      <td>147.988</td>\n",
       "      <td>audio_features</td>\n",
       "      <td>4jCeguq9rMTlbMmPHuO7S3</td>\n",
       "      <td>spotify:track:4jCeguq9rMTlbMmPHuO7S3</td>\n",
       "      <td>https://api.spotify.com/v1/tracks/4jCeguq9rMTl...</td>\n",
       "      <td>https://api.spotify.com/v1/audio-analysis/4jCe...</td>\n",
       "      <td>123298</td>\n",
       "      <td>4</td>\n",
       "      <td>Dark Trap</td>\n",
       "      <td>Venom</td>\n",
       "      <td>NaN</td>\n",
       "      <td>NaN</td>\n",
       "    </tr>\n",
       "    <tr>\n",
       "      <th>5</th>\n",
       "      <td>0.721</td>\n",
       "      <td>0.568</td>\n",
       "      <td>0</td>\n",
       "      <td>-11.295</td>\n",
       "      <td>1</td>\n",
       "      <td>0.4140</td>\n",
       "      <td>0.0452</td>\n",
       "      <td>0.212000</td>\n",
       "      <td>0.1280</td>\n",
       "      <td>0.1090</td>\n",
       "      <td>144.915</td>\n",
       "      <td>audio_features</td>\n",
       "      <td>6fsypiJHyWmeINsOLC1cos</td>\n",
       "      <td>spotify:track:6fsypiJHyWmeINsOLC1cos</td>\n",
       "      <td>https://api.spotify.com/v1/tracks/6fsypiJHyWme...</td>\n",
       "      <td>https://api.spotify.com/v1/audio-analysis/6fsy...</td>\n",
       "      <td>112511</td>\n",
       "      <td>4</td>\n",
       "      <td>Dark Trap</td>\n",
       "      <td>Gatteka</td>\n",
       "      <td>NaN</td>\n",
       "      <td>NaN</td>\n",
       "    </tr>\n",
       "    <tr>\n",
       "      <th>6</th>\n",
       "      <td>0.718</td>\n",
       "      <td>0.668</td>\n",
       "      <td>8</td>\n",
       "      <td>-4.162</td>\n",
       "      <td>1</td>\n",
       "      <td>0.1370</td>\n",
       "      <td>0.0254</td>\n",
       "      <td>0.007800</td>\n",
       "      <td>0.1240</td>\n",
       "      <td>0.0380</td>\n",
       "      <td>130.826</td>\n",
       "      <td>audio_features</td>\n",
       "      <td>0XfQbq7DaMOmVXgQ71eA6E</td>\n",
       "      <td>spotify:track:0XfQbq7DaMOmVXgQ71eA6E</td>\n",
       "      <td>https://api.spotify.com/v1/tracks/0XfQbq7DaMOm...</td>\n",
       "      <td>https://api.spotify.com/v1/audio-analysis/0XfQ...</td>\n",
       "      <td>77584</td>\n",
       "      <td>4</td>\n",
       "      <td>Dark Trap</td>\n",
       "      <td>kamikaze (+ pulse)</td>\n",
       "      <td>NaN</td>\n",
       "      <td>NaN</td>\n",
       "    </tr>\n",
       "    <tr>\n",
       "      <th>7</th>\n",
       "      <td>0.694</td>\n",
       "      <td>0.711</td>\n",
       "      <td>8</td>\n",
       "      <td>-5.525</td>\n",
       "      <td>1</td>\n",
       "      <td>0.2210</td>\n",
       "      <td>0.0397</td>\n",
       "      <td>0.000000</td>\n",
       "      <td>0.1120</td>\n",
       "      <td>0.2830</td>\n",
       "      <td>138.049</td>\n",
       "      <td>audio_features</td>\n",
       "      <td>0LLeuNBWPOg3XA73yab3PT</td>\n",
       "      <td>spotify:track:0LLeuNBWPOg3XA73yab3PT</td>\n",
       "      <td>https://api.spotify.com/v1/tracks/0LLeuNBWPOg3...</td>\n",
       "      <td>https://api.spotify.com/v1/audio-analysis/0LLe...</td>\n",
       "      <td>127524</td>\n",
       "      <td>3</td>\n",
       "      <td>Dark Trap</td>\n",
       "      <td>T.R.U. (Totally Rotten Underground)</td>\n",
       "      <td>NaN</td>\n",
       "      <td>NaN</td>\n",
       "    </tr>\n",
       "    <tr>\n",
       "      <th>8</th>\n",
       "      <td>0.774</td>\n",
       "      <td>0.751</td>\n",
       "      <td>1</td>\n",
       "      <td>-2.445</td>\n",
       "      <td>1</td>\n",
       "      <td>0.1980</td>\n",
       "      <td>0.0614</td>\n",
       "      <td>0.000000</td>\n",
       "      <td>0.0728</td>\n",
       "      <td>0.1890</td>\n",
       "      <td>219.960</td>\n",
       "      <td>audio_features</td>\n",
       "      <td>37gqBnUAZe8BY8WR56kDNk</td>\n",
       "      <td>spotify:track:37gqBnUAZe8BY8WR56kDNk</td>\n",
       "      <td>https://api.spotify.com/v1/tracks/37gqBnUAZe8B...</td>\n",
       "      <td>https://api.spotify.com/v1/audio-analysis/37gq...</td>\n",
       "      <td>140326</td>\n",
       "      <td>4</td>\n",
       "      <td>Dark Trap</td>\n",
       "      <td>I Put My Dick in Your Mental</td>\n",
       "      <td>NaN</td>\n",
       "      <td>NaN</td>\n",
       "    </tr>\n",
       "    <tr>\n",
       "      <th>9</th>\n",
       "      <td>0.893</td>\n",
       "      <td>0.907</td>\n",
       "      <td>11</td>\n",
       "      <td>-10.406</td>\n",
       "      <td>1</td>\n",
       "      <td>0.3670</td>\n",
       "      <td>0.1520</td>\n",
       "      <td>0.031100</td>\n",
       "      <td>0.5580</td>\n",
       "      <td>0.3020</td>\n",
       "      <td>199.942</td>\n",
       "      <td>audio_features</td>\n",
       "      <td>2ggqfj97qyiORmXoVFzP5j</td>\n",
       "      <td>spotify:track:2ggqfj97qyiORmXoVFzP5j</td>\n",
       "      <td>https://api.spotify.com/v1/tracks/2ggqfj97qyiO...</td>\n",
       "      <td>https://api.spotify.com/v1/audio-analysis/2ggq...</td>\n",
       "      <td>121979</td>\n",
       "      <td>4</td>\n",
       "      <td>Dark Trap</td>\n",
       "      <td>Andromeda</td>\n",
       "      <td>NaN</td>\n",
       "      <td>NaN</td>\n",
       "    </tr>\n",
       "  </tbody>\n",
       "</table>\n",
       "</div>"
      ],
      "text/plain": [
       "   danceability  energy  key  loudness  mode  speechiness  acousticness  \\\n",
       "0         0.831   0.814    2    -7.364     1       0.4200        0.0598   \n",
       "1         0.719   0.493    8    -7.230     1       0.0794        0.4010   \n",
       "2         0.850   0.893    5    -4.783     1       0.0623        0.0138   \n",
       "3         0.476   0.781    0    -4.710     1       0.1030        0.0237   \n",
       "4         0.798   0.624    2    -7.668     1       0.2930        0.2170   \n",
       "5         0.721   0.568    0   -11.295     1       0.4140        0.0452   \n",
       "6         0.718   0.668    8    -4.162     1       0.1370        0.0254   \n",
       "7         0.694   0.711    8    -5.525     1       0.2210        0.0397   \n",
       "8         0.774   0.751    1    -2.445     1       0.1980        0.0614   \n",
       "9         0.893   0.907   11   -10.406     1       0.3670        0.1520   \n",
       "\n",
       "   instrumentalness  liveness  valence    tempo            type  \\\n",
       "0          0.013400    0.0556   0.3890  156.985  audio_features   \n",
       "1          0.000000    0.1180   0.1240  115.080  audio_features   \n",
       "2          0.000004    0.3720   0.0391  218.050  audio_features   \n",
       "3          0.000000    0.1140   0.1750  186.948  audio_features   \n",
       "4          0.000000    0.1660   0.5910  147.988  audio_features   \n",
       "5          0.212000    0.1280   0.1090  144.915  audio_features   \n",
       "6          0.007800    0.1240   0.0380  130.826  audio_features   \n",
       "7          0.000000    0.1120   0.2830  138.049  audio_features   \n",
       "8          0.000000    0.0728   0.1890  219.960  audio_features   \n",
       "9          0.031100    0.5580   0.3020  199.942  audio_features   \n",
       "\n",
       "                       id                                   uri  \\\n",
       "0  2Vc6NJ9PW9gD9q343XFRKx  spotify:track:2Vc6NJ9PW9gD9q343XFRKx   \n",
       "1  7pgJBLVz5VmnL7uGHmRj6p  spotify:track:7pgJBLVz5VmnL7uGHmRj6p   \n",
       "2  0vSWgAlfpye0WCGeNmuNhy  spotify:track:0vSWgAlfpye0WCGeNmuNhy   \n",
       "3  0VSXnJqQkwuH2ei1nOQ1nu  spotify:track:0VSXnJqQkwuH2ei1nOQ1nu   \n",
       "4  4jCeguq9rMTlbMmPHuO7S3  spotify:track:4jCeguq9rMTlbMmPHuO7S3   \n",
       "5  6fsypiJHyWmeINsOLC1cos  spotify:track:6fsypiJHyWmeINsOLC1cos   \n",
       "6  0XfQbq7DaMOmVXgQ71eA6E  spotify:track:0XfQbq7DaMOmVXgQ71eA6E   \n",
       "7  0LLeuNBWPOg3XA73yab3PT  spotify:track:0LLeuNBWPOg3XA73yab3PT   \n",
       "8  37gqBnUAZe8BY8WR56kDNk  spotify:track:37gqBnUAZe8BY8WR56kDNk   \n",
       "9  2ggqfj97qyiORmXoVFzP5j  spotify:track:2ggqfj97qyiORmXoVFzP5j   \n",
       "\n",
       "                                          track_href  \\\n",
       "0  https://api.spotify.com/v1/tracks/2Vc6NJ9PW9gD...   \n",
       "1  https://api.spotify.com/v1/tracks/7pgJBLVz5Vmn...   \n",
       "2  https://api.spotify.com/v1/tracks/0vSWgAlfpye0...   \n",
       "3  https://api.spotify.com/v1/tracks/0VSXnJqQkwuH...   \n",
       "4  https://api.spotify.com/v1/tracks/4jCeguq9rMTl...   \n",
       "5  https://api.spotify.com/v1/tracks/6fsypiJHyWme...   \n",
       "6  https://api.spotify.com/v1/tracks/0XfQbq7DaMOm...   \n",
       "7  https://api.spotify.com/v1/tracks/0LLeuNBWPOg3...   \n",
       "8  https://api.spotify.com/v1/tracks/37gqBnUAZe8B...   \n",
       "9  https://api.spotify.com/v1/tracks/2ggqfj97qyiO...   \n",
       "\n",
       "                                        analysis_url  duration_ms  \\\n",
       "0  https://api.spotify.com/v1/audio-analysis/2Vc6...       124539   \n",
       "1  https://api.spotify.com/v1/audio-analysis/7pgJ...       224427   \n",
       "2  https://api.spotify.com/v1/audio-analysis/0vSW...        98821   \n",
       "3  https://api.spotify.com/v1/audio-analysis/0VSX...       123661   \n",
       "4  https://api.spotify.com/v1/audio-analysis/4jCe...       123298   \n",
       "5  https://api.spotify.com/v1/audio-analysis/6fsy...       112511   \n",
       "6  https://api.spotify.com/v1/audio-analysis/0XfQ...        77584   \n",
       "7  https://api.spotify.com/v1/audio-analysis/0LLe...       127524   \n",
       "8  https://api.spotify.com/v1/audio-analysis/37gq...       140326   \n",
       "9  https://api.spotify.com/v1/audio-analysis/2ggq...       121979   \n",
       "\n",
       "   time_signature      genre                                      song_name  \\\n",
       "0               4  Dark Trap                            Mercury: Retrograde   \n",
       "1               4  Dark Trap                                      Pathology   \n",
       "2               4  Dark Trap                                       Symbiote   \n",
       "3               3  Dark Trap  ProductOfDrugs (Prod. The Virus and Antidote)   \n",
       "4               4  Dark Trap                                          Venom   \n",
       "5               4  Dark Trap                                        Gatteka   \n",
       "6               4  Dark Trap                             kamikaze (+ pulse)   \n",
       "7               3  Dark Trap            T.R.U. (Totally Rotten Underground)   \n",
       "8               4  Dark Trap                   I Put My Dick in Your Mental   \n",
       "9               4  Dark Trap                                      Andromeda   \n",
       "\n",
       "   Unnamed: 0 title  \n",
       "0         NaN   NaN  \n",
       "1         NaN   NaN  \n",
       "2         NaN   NaN  \n",
       "3         NaN   NaN  \n",
       "4         NaN   NaN  \n",
       "5         NaN   NaN  \n",
       "6         NaN   NaN  \n",
       "7         NaN   NaN  \n",
       "8         NaN   NaN  \n",
       "9         NaN   NaN  "
      ]
     },
     "execution_count": 6,
     "metadata": {},
     "output_type": "execute_result"
    }
   ],
   "source": [
    "spotify_data.head(10)"
   ]
  },
  {
   "cell_type": "code",
   "execution_count": 7,
   "id": "1b868049",
   "metadata": {},
   "outputs": [
    {
     "data": {
      "text/plain": [
       "Index(['danceability', 'energy', 'key', 'loudness', 'mode', 'speechiness',\n",
       "       'acousticness', 'instrumentalness', 'liveness', 'valence', 'tempo',\n",
       "       'type', 'id', 'uri', 'track_href', 'analysis_url', 'duration_ms',\n",
       "       'time_signature', 'genre', 'song_name', 'Unnamed: 0', 'title'],\n",
       "      dtype='object')"
      ]
     },
     "execution_count": 7,
     "metadata": {},
     "output_type": "execute_result"
    }
   ],
   "source": [
    "# which columns are in the dataset\n",
    "spotify_data.columns"
   ]
  },
  {
   "cell_type": "code",
   "execution_count": 8,
   "id": "b2c9ae61",
   "metadata": {},
   "outputs": [
    {
     "name": "stdout",
     "output_type": "stream",
     "text": [
      "<class 'pandas.core.frame.DataFrame'>\n",
      "RangeIndex: 42305 entries, 0 to 42304\n",
      "Data columns (total 22 columns):\n",
      " #   Column            Non-Null Count  Dtype  \n",
      "---  ------            --------------  -----  \n",
      " 0   danceability      42305 non-null  float64\n",
      " 1   energy            42305 non-null  float64\n",
      " 2   key               42305 non-null  int64  \n",
      " 3   loudness          42305 non-null  float64\n",
      " 4   mode              42305 non-null  int64  \n",
      " 5   speechiness       42305 non-null  float64\n",
      " 6   acousticness      42305 non-null  float64\n",
      " 7   instrumentalness  42305 non-null  float64\n",
      " 8   liveness          42305 non-null  float64\n",
      " 9   valence           42305 non-null  float64\n",
      " 10  tempo             42305 non-null  float64\n",
      " 11  type              42305 non-null  object \n",
      " 12  id                42305 non-null  object \n",
      " 13  uri               42305 non-null  object \n",
      " 14  track_href        42305 non-null  object \n",
      " 15  analysis_url      42305 non-null  object \n",
      " 16  duration_ms       42305 non-null  int64  \n",
      " 17  time_signature    42305 non-null  int64  \n",
      " 18  genre             42305 non-null  object \n",
      " 19  song_name         21519 non-null  object \n",
      " 20  Unnamed: 0        20780 non-null  float64\n",
      " 21  title             20780 non-null  object \n",
      "dtypes: float64(10), int64(4), object(8)\n",
      "memory usage: 7.1+ MB\n"
     ]
    },
    {
     "data": {
      "text/html": [
       "<div>\n",
       "<style scoped>\n",
       "    .dataframe tbody tr th:only-of-type {\n",
       "        vertical-align: middle;\n",
       "    }\n",
       "\n",
       "    .dataframe tbody tr th {\n",
       "        vertical-align: top;\n",
       "    }\n",
       "\n",
       "    .dataframe thead th {\n",
       "        text-align: right;\n",
       "    }\n",
       "</style>\n",
       "<table border=\"1\" class=\"dataframe\">\n",
       "  <thead>\n",
       "    <tr style=\"text-align: right;\">\n",
       "      <th></th>\n",
       "      <th>danceability</th>\n",
       "      <th>energy</th>\n",
       "      <th>key</th>\n",
       "      <th>loudness</th>\n",
       "      <th>mode</th>\n",
       "      <th>speechiness</th>\n",
       "      <th>acousticness</th>\n",
       "      <th>instrumentalness</th>\n",
       "      <th>liveness</th>\n",
       "      <th>valence</th>\n",
       "      <th>tempo</th>\n",
       "      <th>duration_ms</th>\n",
       "      <th>time_signature</th>\n",
       "      <th>Unnamed: 0</th>\n",
       "    </tr>\n",
       "  </thead>\n",
       "  <tbody>\n",
       "    <tr>\n",
       "      <th>count</th>\n",
       "      <td>42305.000000</td>\n",
       "      <td>42305.000000</td>\n",
       "      <td>42305.000000</td>\n",
       "      <td>42305.000000</td>\n",
       "      <td>42305.000000</td>\n",
       "      <td>42305.000000</td>\n",
       "      <td>42305.000000</td>\n",
       "      <td>42305.000000</td>\n",
       "      <td>42305.000000</td>\n",
       "      <td>42305.000000</td>\n",
       "      <td>42305.000000</td>\n",
       "      <td>42305.000000</td>\n",
       "      <td>42305.000000</td>\n",
       "      <td>20780.000000</td>\n",
       "    </tr>\n",
       "    <tr>\n",
       "      <th>mean</th>\n",
       "      <td>0.639364</td>\n",
       "      <td>0.762516</td>\n",
       "      <td>5.370240</td>\n",
       "      <td>-6.465442</td>\n",
       "      <td>0.549462</td>\n",
       "      <td>0.136561</td>\n",
       "      <td>0.096160</td>\n",
       "      <td>0.283048</td>\n",
       "      <td>0.214079</td>\n",
       "      <td>0.357101</td>\n",
       "      <td>147.474056</td>\n",
       "      <td>250865.846685</td>\n",
       "      <td>3.972580</td>\n",
       "      <td>10483.970645</td>\n",
       "    </tr>\n",
       "    <tr>\n",
       "      <th>std</th>\n",
       "      <td>0.156617</td>\n",
       "      <td>0.183823</td>\n",
       "      <td>3.666145</td>\n",
       "      <td>2.941165</td>\n",
       "      <td>0.497553</td>\n",
       "      <td>0.126168</td>\n",
       "      <td>0.170827</td>\n",
       "      <td>0.370791</td>\n",
       "      <td>0.175576</td>\n",
       "      <td>0.233200</td>\n",
       "      <td>23.844623</td>\n",
       "      <td>102957.713571</td>\n",
       "      <td>0.268342</td>\n",
       "      <td>6052.359519</td>\n",
       "    </tr>\n",
       "    <tr>\n",
       "      <th>min</th>\n",
       "      <td>0.065100</td>\n",
       "      <td>0.000243</td>\n",
       "      <td>0.000000</td>\n",
       "      <td>-33.357000</td>\n",
       "      <td>0.000000</td>\n",
       "      <td>0.022700</td>\n",
       "      <td>0.000001</td>\n",
       "      <td>0.000000</td>\n",
       "      <td>0.010700</td>\n",
       "      <td>0.018700</td>\n",
       "      <td>57.967000</td>\n",
       "      <td>25600.000000</td>\n",
       "      <td>1.000000</td>\n",
       "      <td>0.000000</td>\n",
       "    </tr>\n",
       "    <tr>\n",
       "      <th>25%</th>\n",
       "      <td>0.524000</td>\n",
       "      <td>0.632000</td>\n",
       "      <td>1.000000</td>\n",
       "      <td>-8.161000</td>\n",
       "      <td>0.000000</td>\n",
       "      <td>0.049100</td>\n",
       "      <td>0.001730</td>\n",
       "      <td>0.000000</td>\n",
       "      <td>0.099600</td>\n",
       "      <td>0.161000</td>\n",
       "      <td>129.931000</td>\n",
       "      <td>179840.000000</td>\n",
       "      <td>4.000000</td>\n",
       "      <td>5255.750000</td>\n",
       "    </tr>\n",
       "    <tr>\n",
       "      <th>50%</th>\n",
       "      <td>0.646000</td>\n",
       "      <td>0.803000</td>\n",
       "      <td>6.000000</td>\n",
       "      <td>-6.234000</td>\n",
       "      <td>1.000000</td>\n",
       "      <td>0.075500</td>\n",
       "      <td>0.016400</td>\n",
       "      <td>0.005940</td>\n",
       "      <td>0.135000</td>\n",
       "      <td>0.322000</td>\n",
       "      <td>144.973000</td>\n",
       "      <td>224760.000000</td>\n",
       "      <td>4.000000</td>\n",
       "      <td>10479.500000</td>\n",
       "    </tr>\n",
       "    <tr>\n",
       "      <th>75%</th>\n",
       "      <td>0.766000</td>\n",
       "      <td>0.923000</td>\n",
       "      <td>9.000000</td>\n",
       "      <td>-4.513000</td>\n",
       "      <td>1.000000</td>\n",
       "      <td>0.193000</td>\n",
       "      <td>0.107000</td>\n",
       "      <td>0.722000</td>\n",
       "      <td>0.294000</td>\n",
       "      <td>0.522000</td>\n",
       "      <td>161.464000</td>\n",
       "      <td>301133.000000</td>\n",
       "      <td>4.000000</td>\n",
       "      <td>15709.250000</td>\n",
       "    </tr>\n",
       "    <tr>\n",
       "      <th>max</th>\n",
       "      <td>0.988000</td>\n",
       "      <td>1.000000</td>\n",
       "      <td>11.000000</td>\n",
       "      <td>3.148000</td>\n",
       "      <td>1.000000</td>\n",
       "      <td>0.946000</td>\n",
       "      <td>0.988000</td>\n",
       "      <td>0.989000</td>\n",
       "      <td>0.988000</td>\n",
       "      <td>0.988000</td>\n",
       "      <td>220.290000</td>\n",
       "      <td>913052.000000</td>\n",
       "      <td>5.000000</td>\n",
       "      <td>20999.000000</td>\n",
       "    </tr>\n",
       "  </tbody>\n",
       "</table>\n",
       "</div>"
      ],
      "text/plain": [
       "       danceability        energy           key      loudness          mode  \\\n",
       "count  42305.000000  42305.000000  42305.000000  42305.000000  42305.000000   \n",
       "mean       0.639364      0.762516      5.370240     -6.465442      0.549462   \n",
       "std        0.156617      0.183823      3.666145      2.941165      0.497553   \n",
       "min        0.065100      0.000243      0.000000    -33.357000      0.000000   \n",
       "25%        0.524000      0.632000      1.000000     -8.161000      0.000000   \n",
       "50%        0.646000      0.803000      6.000000     -6.234000      1.000000   \n",
       "75%        0.766000      0.923000      9.000000     -4.513000      1.000000   \n",
       "max        0.988000      1.000000     11.000000      3.148000      1.000000   \n",
       "\n",
       "        speechiness  acousticness  instrumentalness      liveness  \\\n",
       "count  42305.000000  42305.000000      42305.000000  42305.000000   \n",
       "mean       0.136561      0.096160          0.283048      0.214079   \n",
       "std        0.126168      0.170827          0.370791      0.175576   \n",
       "min        0.022700      0.000001          0.000000      0.010700   \n",
       "25%        0.049100      0.001730          0.000000      0.099600   \n",
       "50%        0.075500      0.016400          0.005940      0.135000   \n",
       "75%        0.193000      0.107000          0.722000      0.294000   \n",
       "max        0.946000      0.988000          0.989000      0.988000   \n",
       "\n",
       "            valence         tempo    duration_ms  time_signature    Unnamed: 0  \n",
       "count  42305.000000  42305.000000   42305.000000    42305.000000  20780.000000  \n",
       "mean       0.357101    147.474056  250865.846685        3.972580  10483.970645  \n",
       "std        0.233200     23.844623  102957.713571        0.268342   6052.359519  \n",
       "min        0.018700     57.967000   25600.000000        1.000000      0.000000  \n",
       "25%        0.161000    129.931000  179840.000000        4.000000   5255.750000  \n",
       "50%        0.322000    144.973000  224760.000000        4.000000  10479.500000  \n",
       "75%        0.522000    161.464000  301133.000000        4.000000  15709.250000  \n",
       "max        0.988000    220.290000  913052.000000        5.000000  20999.000000  "
      ]
     },
     "execution_count": 8,
     "metadata": {},
     "output_type": "execute_result"
    }
   ],
   "source": [
    "# commom info about the dataset\n",
    "spotify_data.info()\n",
    "spotify_data.describe()"
   ]
  },
  {
   "cell_type": "code",
   "execution_count": 9,
   "id": "ae163473",
   "metadata": {},
   "outputs": [],
   "source": [
    "# create a variable called song_tempos that contains the tempo column data (tempo - gives the beats per minute (bpm) of each song)\n",
    "song_tempos = spotify_data['tempo']"
   ]
  },
  {
   "cell_type": "markdown",
   "id": "894b2053",
   "metadata": {},
   "source": [
    "## Helper Functions\n",
    "\n",
    "A file called helper_functions.py contains three functions: \n",
    "- choose_statistic() -> The function allows to choose a statistic for sampling and population distributions\n",
    "- plot_population_distribution() -> The function allows to plot the population distribution and sampling distribution\n",
    "- and sampling_distribution() -> The function allows to plot a simulated sampling distribution of a statistic"
   ]
  },
  {
   "cell_type": "markdown",
   "id": "9d0d79da",
   "metadata": {},
   "source": [
    "## Sampling Distribution Exploration"
   ]
  },
  {
   "cell_type": "code",
   "execution_count": 10,
   "id": "35c0ca9e",
   "metadata": {},
   "outputs": [
    {
     "data": {
      "image/png": "[encoded data removed]",
      "text/plain": [
       "<Figure size 640x480 with 1 Axes>"
      ]
     },
     "metadata": {},
     "output_type": "display_data"
    },
    {
     "data": {
      "text/plain": [
       "<Figure size 640x480 with 0 Axes>"
      ]
     },
     "metadata": {},
     "output_type": "display_data"
    }
   ],
   "source": [
    "# task 5: using the plot_population_distribution function\n",
    "plot_population_distribution(song_tempos)\n"
   ]
  },
  {
   "cell_type": "markdown",
   "id": "8d04673a",
   "metadata": {},
   "source": [
    "The population distribution is approximately normal with a little bit of right-skewness."
   ]
  },
  {
   "cell_type": "code",
   "execution_count": 24,
   "id": "e9dd1721",
   "metadata": {},
   "outputs": [
    {
     "data": {
      "image/png": "[encoded data removed]",
      "text/plain": [
       "<Figure size 640x480 with 1 Axes>"
      ]
     },
     "metadata": {},
     "output_type": "display_data"
    },
    {
     "data": {
      "text/plain": [
       "<Figure size 640x480 with 0 Axes>"
      ]
     },
     "metadata": {},
     "output_type": "display_data"
    }
   ],
   "source": [
    "# task 6-7: plot the sampling distribution of the sample mean with sample sizes of 30 songs\n",
    "# set sample size\n",
    "sample_size = 30\n",
    "\n",
    "sampling_distribution(song_tempos, sample_size, 'MEAN')"
   ]
  },
  {
   "cell_type": "markdown",
   "id": "f6ffb606",
   "metadata": {},
   "source": [
    "The mean of the sampling distribution of the means is almost equal to population mean value. The sample mean value is unbiased estimator of population."
   ]
  },
  {
   "cell_type": "code",
   "execution_count": 26,
   "id": "b8a40d92",
   "metadata": {},
   "outputs": [
    {
     "data": {
      "image/png": "[encoded data removed]",
      "text/plain": [
       "<Figure size 640x480 with 1 Axes>"
      ]
     },
     "metadata": {},
     "output_type": "display_data"
    },
    {
     "data": {
      "text/plain": [
       "<Figure size 640x480 with 0 Axes>"
      ]
     },
     "metadata": {},
     "output_type": "display_data"
    }
   ],
   "source": [
    "# task 8: plot the sampling distribution of the sample minimum with sample sizes of 30 songs\n",
    "sampling_distribution(song_tempos, sample_size, 'MiNimum')"
   ]
  },
  {
   "cell_type": "markdown",
   "id": "00e5ff85",
   "metadata": {},
   "source": [
    "The mean of the sampling distribution of the minimums is not approximately the same as the population minimum value. The sample minimum value is biased estimator of population."
   ]
  },
  {
   "cell_type": "code",
   "execution_count": 25,
   "id": "6b8d09aa",
   "metadata": {},
   "outputs": [
    {
     "data": {
      "image/png": "[encoded data removed]",
      "text/plain": [
       "<Figure size 640x480 with 1 Axes>"
      ]
     },
     "metadata": {},
     "output_type": "display_data"
    },
    {
     "data": {
      "text/plain": [
       "<Figure size 640x480 with 0 Axes>"
      ]
     },
     "metadata": {},
     "output_type": "display_data"
    }
   ],
   "source": [
    "# task 10: plot the sampling distribution of the sample variance with sample sizes of 30 songs\n",
    "sampling_distribution(song_tempos, sample_size, 'VARIANCE')"
   ]
  },
  {
   "cell_type": "markdown",
   "id": "d5ce1bd0",
   "metadata": {},
   "source": [
    "It seems that the mean sample variance is a biased estimator. But with the parameter ddof=1 it will be an unbiased estimator."
   ]
  },
  {
   "cell_type": "code",
   "execution_count": 23,
   "id": "f0b31c2c",
   "metadata": {},
   "outputs": [
    {
     "name": "stdout",
     "output_type": "stream",
     "text": [
      "147.47 | 23.84\n"
     ]
    }
   ],
   "source": [
    "# task 13: calculate the population mean and population standard deviation of song_tempos\n",
    "population_mean = round(np.mean(song_tempos), 2)\n",
    "population_std = round(np.std(song_tempos), 2)\n",
    "print(f\"{population_mean} | {population_std}\")"
   ]
  },
  {
   "cell_type": "code",
   "execution_count": 27,
   "id": "5d780818",
   "metadata": {},
   "outputs": [
    {
     "name": "stdout",
     "output_type": "stream",
     "text": [
      "4.35\n"
     ]
    }
   ],
   "source": [
    "# task 14: calculate the standard error of the sampling distribution of the sample mean with a sample size\n",
    "standard_error = population_std / np.sqrt(sample_size)\n",
    "print(f\"{standard_error:.2f}\")"
   ]
  },
  {
   "cell_type": "code",
   "execution_count": 28,
   "id": "2838245c",
   "metadata": {},
   "outputs": [
    {
     "name": "stdout",
     "output_type": "stream",
     "text": [
      "The probability that the sample mean of 30 selected songs is less than 140bpm is 0.0431\n"
     ]
    }
   ],
   "source": [
    "# task 15: calculate the probability that the sample mean of 30 selected songs is less than 140bpm\n",
    "prob_140_or_less =  stats.norm.cdf(140, population_mean, standard_error)\n",
    "print(f\"The probability that the sample mean of {sample_size} selected songs is less than 140bpm is {prob_140_or_less:.4f}\")"
   ]
  },
  {
   "cell_type": "code",
   "execution_count": 29,
   "id": "8a512143",
   "metadata": {},
   "outputs": [
    {
     "name": "stdout",
     "output_type": "stream",
     "text": [
      "The probability that the sample mean of 30 selected songs is GREATER than 150bpm 0.2805\n"
     ]
    }
   ],
   "source": [
    "# # task 16: calculate the probability of observing an average tempo of 150bpm or higher from a sample of songs\n",
    "prob_150_or_more = 1 - stats.norm.cdf(150, population_mean, standard_error)\n",
    "print(f\"The probability that the sample mean of {sample_size} selected songs is GREATER than 150bpm {prob_150_or_more:.4f}\")"
   ]
  },
  {
   "cell_type": "markdown",
   "id": "139f8834",
   "metadata": {},
   "source": [
    "## Extra"
   ]
  },
  {
   "cell_type": "code",
   "execution_count": 39,
   "id": "da4b9db3",
   "metadata": {},
   "outputs": [],
   "source": [
    "# max duration of a song\n",
    "filt_max = spotify_data['duration_ms'] == spotify_data['duration_ms'].max()\n",
    "max_duration_song = spotify_data[filt_max]"
   ]
  },
  {
   "cell_type": "code",
   "execution_count": 42,
   "id": "17e381b4",
   "metadata": {},
   "outputs": [
    {
     "data": {
      "text/html": [
       "<div>\n",
       "<style scoped>\n",
       "    .dataframe tbody tr th:only-of-type {\n",
       "        vertical-align: middle;\n",
       "    }\n",
       "\n",
       "    .dataframe tbody tr th {\n",
       "        vertical-align: top;\n",
       "    }\n",
       "\n",
       "    .dataframe thead th {\n",
       "        text-align: right;\n",
       "    }\n",
       "</style>\n",
       "<table border=\"1\" class=\"dataframe\">\n",
       "  <thead>\n",
       "    <tr style=\"text-align: right;\">\n",
       "      <th></th>\n",
       "      <th>song_name</th>\n",
       "      <th>title</th>\n",
       "      <th>duration_ms</th>\n",
       "      <th>track_href</th>\n",
       "    </tr>\n",
       "  </thead>\n",
       "  <tbody>\n",
       "    <tr>\n",
       "      <th>31428</th>\n",
       "      <td>NaN</td>\n",
       "      <td>PSYTRANCE BANGERS best new 2020</td>\n",
       "      <td>913052</td>\n",
       "      <td>https://api.spotify.com/v1/tracks/16Sff1KTYV40...</td>\n",
       "    </tr>\n",
       "  </tbody>\n",
       "</table>\n",
       "</div>"
      ],
      "text/plain": [
       "      song_name                            title  duration_ms  \\\n",
       "31428       NaN  PSYTRANCE BANGERS best new 2020       913052   \n",
       "\n",
       "                                              track_href  \n",
       "31428  https://api.spotify.com/v1/tracks/16Sff1KTYV40...  "
      ]
     },
     "execution_count": 42,
     "metadata": {},
     "output_type": "execute_result"
    }
   ],
   "source": [
    "max_duration_song[['song_name', 'title', 'duration_ms', 'track_href']]"
   ]
  },
  {
   "cell_type": "code",
   "execution_count": 90,
   "id": "bb3396c2",
   "metadata": {},
   "outputs": [
    {
     "name": "stdout",
     "output_type": "stream",
     "text": [
      "104.89 | 13.80\n",
      "The standard error of the sample minimums is 2.5197\n",
      "The probability of getting a sample minimum that is less than 130bpm is 0.9788\n"
     ]
    }
   ],
   "source": [
    "# task 17: the chance of getting a sample minimum that is less than 130bpm\n",
    "\n",
    "# list that will hold the sample statistics of minimums\n",
    "minimum_sample_stats = []\n",
    "for i in range(500):\n",
    "    # get a random sample from the population of size sample_size\n",
    "    samp = np.random.choice(song_tempos, size=sample_size, replace=False)\n",
    "    # calculate the minimum statistic of the sample\n",
    "    min_samp_stat = choose_statistic(samp, 'minimum')\n",
    "    # add sample_stat to the sample_stats list\n",
    "    minimum_sample_stats.append(min_samp_stat)\n",
    "\n",
    "# calculate the average and standard deviation of the minimum sample statistics\n",
    "average_minimum_sample_stats = np.mean(minimum_sample_stats)\n",
    "std_minimum_sample_stats = np.std(minimum_sample_stats)\n",
    "print(f\"{average_minimum_sample_stats:.2f} | {std_minimum_sample_stats:.2f}\")\n",
    "\n",
    "# calculate the standard error of the sampling distribution of the sample minimums with a sample size\n",
    "standard_error_minimum = std_minimum_sample_stats / np.sqrt(sample_size)\n",
    "print(f\"The standard error of the sample minimums is {standard_error_minimum:.4f}\")\n",
    "\n",
    "# the probability of getting a sample minimum that is less than 130bpm\n",
    "prob_min_130_or_less = stats.norm.cdf(110, average_minimum_sample_stats, standard_error_minimum)\n",
    "print(f\"The probability of getting a sample minimum that is less than 130bpm is {prob_min_130_or_less:.4f}\")\n"
   ]
  }
 ],
 "metadata": {
  "kernelspec": {
   "display_name": "base",
   "language": "python",
   "name": "python3"
  },
  "language_info": {
   "codemirror_mode": {
    "name": "ipython",
    "version": 3
   },
   "file_extension": ".py",
   "mimetype": "text/x-python",
   "name": "python",
   "nbconvert_exporter": "python",
   "pygments_lexer": "ipython3",
   "version": "3.11.5"
  }
 },
 "nbformat": 4,
 "nbformat_minor": 5
}
